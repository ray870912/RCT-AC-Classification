{
 "cells": [
  {
   "cell_type": "code",
   "execution_count": 1,
   "metadata": {},
   "outputs": [],
   "source": [
    "import numpy as np\n",
    "import pandas as pd\n",
    "from sklearn import model_selection, ensemble, metrics"
   ]
  },
  {
   "cell_type": "code",
   "execution_count": 17,
   "metadata": {},
   "outputs": [],
   "source": [
    "# Read Data\n",
    "data = pd.read_csv('/Users/ray/Thesis/ShoulderData.csv')\n",
    "clinic = pd.read_csv('/Users/ray/Thesis/Shoulder_clinic_angle.csv')\n",
    "\n",
    "# Encoding\n",
    "clinic_encodeing = pd.get_dummies(clinic['sex'])\n",
    "clinic_encodeing = pd.DataFrame(clinic_encodeing)\n",
    "# Cleaning\n",
    "clinic_keep = clinic[['ID','age','group']]\n",
    "clinic_keep = clinic_keep.join(clinic_encodeing)\n",
    "# Combine\n",
    "train_data = pd.merge(data, clinic_keep, on=\"ID\")\n",
    "\n",
    "# Choosing group\n",
    "train_data = train_data.loc[train_data['group'] != 'RCT']\n",
    "\n",
    "X = train_data.drop(columns=['ID','group'])\n",
    "y = train_data['group']\n",
    "# Train & Test Split\n",
    "X_train, X_test, y_train, y_test = model_selection.train_test_split(X, y, test_size = 0.3, random_state=7)"
   ]
  },
  {
   "cell_type": "code",
   "execution_count": 18,
   "metadata": {},
   "outputs": [],
   "source": [
    "# Training Model\n",
    "forest = ensemble.RandomForestClassifier(n_estimators = 100)\n",
    "forest_fit = forest.fit(X_train, y_train)"
   ]
  },
  {
   "cell_type": "code",
   "execution_count": 19,
   "metadata": {},
   "outputs": [
    {
     "name": "stdout",
     "output_type": "stream",
     "text": [
      "0.9090909090909091\n"
     ]
    }
   ],
   "source": [
    "# Prediction\n",
    "y_predicted = forest.predict(X_test)\n",
    "\n",
    "accuracy = metrics.accuracy_score(y_test, y_predicted)\n",
    "print(accuracy)"
   ]
  },
  {
   "cell_type": "code",
   "execution_count": 20,
   "metadata": {},
   "outputs": [
    {
     "name": "stdout",
     "output_type": "stream",
     "text": [
      "[[ 3  4]\n",
      " [ 0 37]]\n",
      "Accuracy:  0.9090909090909091\n",
      "Sensitivity:  1.0\n",
      "Specificity:  0.42857142857142855\n"
     ]
    }
   ],
   "source": [
    "# Model Evaluation\n",
    "\n",
    "\n",
    "# for Binary-Class\n",
    "confuse_matrix = metrics.confusion_matrix(y_test, y_predicted, labels=[\"AC\", \"HC\"])\n",
    "tn, fp, fn, tp = metrics.confusion_matrix(y_test, y_predicted).ravel()\n",
    "print(confuse_matrix)\n",
    "\n",
    "# for Multi-Class\n",
    "# confuse_matrix = metrics.confusion_matrix(y_test, y_predicted, labels=[\"AC\", \"RCT\", \"HC\"])\n",
    "# print(confuse_matrix)\n",
    "\n",
    "# fp = confuse_matrix.sum(axis=0) - np.diag(confuse_matrix) \n",
    "# fn = confuse_matrix.sum(axis=1) - np.diag(confuse_matrix)\n",
    "# tp = np.diag(confuse_matrix)\n",
    "# tn = confuse_matrix.sum() - (fp + fn + tp)\n",
    "# fp = fp.astype(float)\n",
    "# fn = fn.astype(float)\n",
    "# tp = tp.astype(float)\n",
    "# tn = tn.astype(float)\n",
    "\n",
    "accuracy = (tp+tn)/(tp+fp+fn+tn)\n",
    "print ('Accuracy: ', accuracy)\n",
    "\n",
    "sensitivity = tp/(tp+fn)\n",
    "print('Sensitivity: ', sensitivity)\n",
    "\n",
    "specificity = tn/(tn+fp) \n",
    "print('Specificity: ', specificity)"
   ]
  },
  {
   "cell_type": "code",
   "execution_count": null,
   "metadata": {},
   "outputs": [],
   "source": []
  }
 ],
 "metadata": {
  "kernelspec": {
   "display_name": "Python 3",
   "language": "python",
   "name": "python3"
  },
  "language_info": {
   "codemirror_mode": {
    "name": "ipython",
    "version": 3
   },
   "file_extension": ".py",
   "mimetype": "text/x-python",
   "name": "python",
   "nbconvert_exporter": "python",
   "pygments_lexer": "ipython3",
   "version": "3.9.2"
  },
  "orig_nbformat": 4
 },
 "nbformat": 4,
 "nbformat_minor": 2
}
