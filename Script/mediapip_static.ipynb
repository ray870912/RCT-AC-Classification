{
 "cells": [
  {
   "cell_type": "code",
   "execution_count": 17,
   "metadata": {},
   "outputs": [],
   "source": [
    "import cv2\n",
    "vidcap = cv2.VideoCapture('flexion.mp4')\n",
    "success,image = vidcap.read()\n",
    "\n",
    "while success:\n",
    "  success,image = vidcap.read()"
   ]
  },
  {
   "cell_type": "code",
   "execution_count": 1,
   "metadata": {},
   "outputs": [
    {
     "data": {
      "text/plain": [
       "True"
      ]
     },
     "execution_count": 1,
     "metadata": {},
     "output_type": "execute_result"
    }
   ],
   "source": [
    "import cv2\n",
    "import mediapipe as mp\n",
    "import numpy as np\n",
    "from math import pi, atan2, asin, degrees\n",
    "\n",
    "# Mediapipe drawing\n",
    "mp_drawing = mp.solutions.drawing_utils\n",
    "mp_drawing_styles = mp.solutions.drawing_styles\n",
    "draw_spec = mp_drawing.DrawingSpec(thickness=1, circle_radius=1)\n",
    "# Mediapipe API --> holistic\n",
    "mp_holistic = mp.solutions.holistic\n",
    "\n",
    "# For webcam solution\n",
    "holistic = mp_holistic.Holistic(static_image_mode=True, min_detection_confidence=0.5, min_tracking_confidence=0.5)\n",
    "\n",
    "# input\n",
    "image = cv2.imread('pose_test.png')\n",
    "\n",
    "# Flip image horizontally for selfie-view display & convert color space form BGR to RGB\n",
    "image = cv2.cvtColor(cv2.flip(image, 1), cv2.COLOR_BGR2RGB)\n",
    "# To improve perormance\n",
    "image.flags.writeable = False\n",
    "\n",
    "# Get the result for mediapipe-holistic\n",
    "results = holistic.process(image)\n",
    "\n",
    "image.flags.writeable = True\n",
    "\n",
    "# convert color space form RGB to BGR\n",
    "image = cv2.cvtColor(image, cv2.COLOR_BGR2RGB)\n",
    "\n",
    "img_h, img_w, img_c = image.shape\n",
    "rotation_3D = []\n",
    "rotation_2D = []\n",
    "\n",
    "# Extract landmarks and calculate face rotation angles\n",
    "for idx, lm in enumerate(results.face_landmarks.landmark):\n",
    "    if idx == 33 or idx == 263 or idx == 1 or idx == 61 or idx == 291 or idx == 199:\n",
    "        if idx == 1:\n",
    "            nose_2d = (lm.x * img_w, lm.y * img_h)\n",
    "            nose_3d = (lm.x * img_w, lm.y * img_h, lm.z * 3000)\n",
    "\n",
    "        x, y = int(lm.x * img_w), int(lm.y * img_h)\n",
    "\n",
    "        # Get the 3D Coordinates\n",
    "        rotation_3D.append([x, y, lm.z])\n",
    "        # Get the 2D Coordinates\n",
    "        rotation_2D.append([x, y])\n",
    "\n",
    "# Convert it to the NumPy array \n",
    "rotation_3D = np.asarray(rotation_3D, dtype=np.float64)\n",
    "rotation_2D = np.asarray(rotation_2D, dtype=np.float64)\n",
    "\n",
    "# The camera matrix\n",
    "focal_length = 1 * img_w\n",
    "\n",
    "cam_matrix = np.asarray(\n",
    "[[focal_length, 0, img_h / 2],\n",
    "[0, focal_length, img_w / 2],\n",
    "[0, 0, 1]], dtype=np.float64)\n",
    "\n",
    "# The Distance Matrix\n",
    "dist_matrix = np.zeros((4, 1), dtype=np.float64)\n",
    "\n",
    "# Solve PnP\n",
    "success, rot_vec, trans_vec = cv2.solvePnP(rotation_3D, rotation_2D, cam_matrix, dist_matrix)\n",
    "\n",
    "\n",
    "# Get rotation matrix\n",
    "rmat, jac = cv2.Rodrigues(rot_vec)\n",
    "\n",
    "\n",
    "# Get angles\n",
    "angles, mtxR, mtxQ, Qx, Qy, Qz = cv2.RQDecomp3x3(rmat)\n",
    "\n",
    "# Get x, y, z angles\n",
    "roll = 180*atan2(-rmat[2][1], rmat[2][2])/pi\n",
    "pitch = 180*asin(rmat[2][0])/pi\n",
    "yaw = 180*atan2(-rmat[1][0], rmat[0][0])/pi\n",
    "rot_params = [roll, pitch, yaw]\n",
    "\n",
    "nose_3d_projection, jacobian = cv2.projectPoints(nose_3d, rot_vec, trans_vec, cam_matrix, dist_matrix)\n",
    "\n",
    "p1 = (int(nose_2d[0]), int(nose_2d[1]))\n",
    "p2 = (int(nose_3d_projection[0][0][0]), int(nose_3d_projection[0][0][1]))\n",
    "\n",
    "cv2.line(image, p1, p2, (255, 0, 0), 3)\n",
    "\n",
    "cv2.putText(image, \"x: \" + str(np.round(x, 2)), (500, 50), cv2.FONT_HERSHEY_SIMPLEX, 1, (0, 0, 255), 3)\n",
    "cv2.putText(image, \"y: \" + str(np.round(y, 2)), (500, 100), cv2.FONT_HERSHEY_SIMPLEX, 1, (0, 0, 255), 3)\n",
    "# cv2.putText(image, \"z: \" + str(np.round(z, 2)), (500, 150), cv2.FONT_HERSHEY_SIMPLEX, 1, (0, 0, 255), 3)\n",
    "\n",
    "mp_drawing.draw_landmarks(\n",
    "    image = image,\n",
    "    landmark_list = results.face_landmarks,\n",
    "    connections = mp_holistic.FACEMESH_TESSELATION,\n",
    "    landmark_drawing_spec = draw_spec,\n",
    "    connection_drawing_spec = draw_spec)\n",
    "mp_drawing.draw_landmarks(\n",
    "    image,\n",
    "    results.pose_landmarks,\n",
    "    mp_holistic.POSE_CONNECTIONS,\n",
    "    landmark_drawing_spec=mp_drawing_styles\n",
    "    .get_default_pose_landmarks_style())\n",
    "\n",
    "cv2.imwrite('Head Pose Estimation.jpg', image)\n"
   ]
  },
  {
   "cell_type": "code",
   "execution_count": 1,
   "metadata": {},
   "outputs": [
    {
     "name": "stdout",
     "output_type": "stream",
     "text": [
      "419\n"
     ]
    },
    {
     "ename": "error",
     "evalue": "OpenCV(4.6.0) /Users/runner/work/opencv-python/opencv-python/opencv/modules/imgproc/src/color.cpp:182: error: (-215:Assertion failed) !_src.empty() in function 'cvtColor'\n",
     "output_type": "error",
     "traceback": [
      "\u001b[0;31m---------------------------------------------------------------------------\u001b[0m",
      "\u001b[0;31merror\u001b[0m                                     Traceback (most recent call last)",
      "\u001b[0;32m<ipython-input-1-1a17ca75fabf>\u001b[0m in \u001b[0;36m<module>\u001b[0;34m\u001b[0m\n\u001b[1;32m     36\u001b[0m   \u001b[0mimage\u001b[0m \u001b[0;34m=\u001b[0m \u001b[0mcv2\u001b[0m\u001b[0;34m.\u001b[0m\u001b[0mflip\u001b[0m\u001b[0;34m(\u001b[0m\u001b[0mimage\u001b[0m\u001b[0;34m,\u001b[0m \u001b[0;34m-\u001b[0m\u001b[0;36m1\u001b[0m\u001b[0;34m)\u001b[0m\u001b[0;34m\u001b[0m\u001b[0;34m\u001b[0m\u001b[0m\n\u001b[1;32m     37\u001b[0m \u001b[0;34m\u001b[0m\u001b[0m\n\u001b[0;32m---> 38\u001b[0;31m   \u001b[0mresults\u001b[0m \u001b[0;34m=\u001b[0m \u001b[0mholistic\u001b[0m\u001b[0;34m.\u001b[0m\u001b[0mprocess\u001b[0m\u001b[0;34m(\u001b[0m\u001b[0mcv2\u001b[0m\u001b[0;34m.\u001b[0m\u001b[0mcvtColor\u001b[0m\u001b[0;34m(\u001b[0m\u001b[0mimage\u001b[0m\u001b[0;34m,\u001b[0m \u001b[0mcv2\u001b[0m\u001b[0;34m.\u001b[0m\u001b[0mCOLOR_BGR2RGB\u001b[0m\u001b[0;34m)\u001b[0m\u001b[0;34m)\u001b[0m\u001b[0;34m\u001b[0m\u001b[0;34m\u001b[0m\u001b[0m\n\u001b[0m\u001b[1;32m     39\u001b[0m \u001b[0;34m\u001b[0m\u001b[0m\n\u001b[1;32m     40\u001b[0m   \u001b[0;32mif\u001b[0m \u001b[0mcountFrames\u001b[0m \u001b[0;34m<=\u001b[0m \u001b[0;36m50\u001b[0m\u001b[0;34m:\u001b[0m\u001b[0;34m\u001b[0m\u001b[0;34m\u001b[0m\u001b[0m\n",
      "\u001b[0;31merror\u001b[0m: OpenCV(4.6.0) /Users/runner/work/opencv-python/opencv-python/opencv/modules/imgproc/src/color.cpp:182: error: (-215:Assertion failed) !_src.empty() in function 'cvtColor'\n"
     ]
    }
   ],
   "source": [
    "import cv2\n",
    "import mediapipe as mp\n",
    "import numpy as np\n",
    "import pandas as pd\n",
    "\n",
    "# Mediapipe - Holistic\n",
    "mp_drawing = mp.solutions.drawing_utils\n",
    "mp_drawing_styles = mp.solutions.drawing_styles\n",
    "mp_holistic = mp.solutions.holistic\n",
    "\n",
    "holistic = mp_holistic.Holistic(\n",
    "  static_image_mode=True,\n",
    "  min_detection_confidence=0.5,\n",
    "  min_tracking_confidence=0.5)\n",
    "\n",
    "# %%\n",
    "\n",
    "# Read Video\n",
    "inputVideo = cv2.VideoCapture('Flexion.mp4')\n",
    "videoLength = int(inputVideo.get(cv2.CAP_PROP_FRAME_COUNT))\n",
    "print(videoLength) # Video totally frames\n",
    "\n",
    "success, image = inputVideo.read()\n",
    "countFrames = 0\n",
    "\n",
    "startPoint = []\n",
    "\n",
    "# Video starting process\n",
    "def getStartPoint(result):\n",
    "    startPoint.append(result)\n",
    "\n",
    "    return 0\n",
    "\n",
    "while success:\n",
    "  success, image = inputVideo.read()\n",
    "  image = cv2.flip(image, -1)\n",
    "  \n",
    "  results = holistic.process(cv2.cvtColor(image, cv2.COLOR_BGR2RGB))\n",
    "\n",
    "  if countFrames <= 50:\n",
    "    startPosition = getStartPoint(results.pose_landmarks.landmark)\n",
    "    "
   ]
  },
  {
   "cell_type": "code",
   "execution_count": 43,
   "metadata": {},
   "outputs": [
    {
     "data": {
      "image/png": "[encoded data removed]",
      "text/plain": [
       "<Figure size 432x288 with 1 Axes>"
      ]
     },
     "metadata": {
      "needs_background": "light"
     },
     "output_type": "display_data"
    }
   ],
   "source": [
    "import numpy as np\n",
    "import bezier\n",
    "import matplotlib.pyplot as plt\n",
    "from sympy import *\n",
    "\n",
    "a = np.asfortranarray([[1,3,7], [3,6,2]])\n",
    "\n",
    "curve = bezier.Curve(a, degree=2)\n",
    "\n",
    "fig = plt.figure()\n",
    "ax1 = fig.gca()\n",
    "ax1.scatter(a[0],a[1])\n",
    "ax1.grid()\n",
    "bplt = curve.plot(num_pts=256, ax=ax1)"
   ]
  },
  {
   "cell_type": "code",
   "execution_count": 3,
   "metadata": {},
   "outputs": [
    {
     "name": "stdout",
     "output_type": "stream",
     "text": [
      "ID & side,maxAngle,sVar0,sVar1,sVar2,sVar3,sVar4,sAngle0,sAngle1,sAngle2,sAngle3,sAngle4,eAngle0,eAngle1,eAngle2,eAngle3,eAngle4,length0,length1,length2,length3,length4,speed0,speed1,speed2,speed3,speed4,reSpeed0,reSpeed1,reSpeed2,reSpeed3,reSpeed4,varSpeed0,varSpeed1,varSpeed2,varSpeed3,varSpeed4\n"
     ]
    }
   ],
   "source": [
    "import numpy as np\n",
    "\n",
    "\n",
    "headerLsit = ['sVar', 'sAngle', 'eAngle', 'length', 'speed', 'reSpeed', 'varSpeed']\n",
    "header = 'ID,maxAngle,'\n",
    "header += ','.join(s+str(i) for s in headerLsit for i in range(5))\n",
    "\n",
    "print(header)"
   ]
  },
  {
   "cell_type": "code",
   "execution_count": null,
   "metadata": {},
   "outputs": [],
   "source": []
  },
  {
   "cell_type": "code",
   "execution_count": null,
   "metadata": {},
   "outputs": [],
   "source": []
  }
 ],
 "metadata": {
  "kernelspec": {
   "display_name": "Python 3.9.2 64-bit",
   "language": "python",
   "name": "python3"
  },
  "language_info": {
   "codemirror_mode": {
    "name": "ipython",
    "version": 3
   },
   "file_extension": ".py",
   "mimetype": "text/x-python",
   "name": "python",
   "nbconvert_exporter": "python",
   "pygments_lexer": "ipython3",
   "version": "3.9.2"
  },
  "orig_nbformat": 4,
  "vscode": {
   "interpreter": {
    "hash": "aee8b7b246df8f9039afb4144a1f6fd8d2ca17a180786b69acc140d282b71a49"
   }
  }
 },
 "nbformat": 4,
 "nbformat_minor": 2
}
