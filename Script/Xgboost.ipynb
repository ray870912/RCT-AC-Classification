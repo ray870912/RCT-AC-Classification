{
 "cells": [
  {
   "cell_type": "code",
   "execution_count": 1,
   "metadata": {},
   "outputs": [],
   "source": [
    "import numpy as np\n",
    "import pandas as pd\n",
    "from statistics import mean\n",
    "from xgboost import XGBClassifier\n",
    "from sklearn import model_selection, metrics\n",
    "from sklearn.feature_selection import RFECV"
   ]
  },
  {
   "cell_type": "code",
   "execution_count": 2,
   "metadata": {},
   "outputs": [],
   "source": [
    "# Read Data\n",
    "data = pd.read_csv('/Users/ray/Thesis/ShoulderAll.csv')\n",
    "\n",
    "# colList = pd.read_csv('/Users/ray/Thesis/p_val.csv')\n",
    "\n",
    "# cList = np.append(np.array(colList['colName']), 'group')\n",
    "# data = data[data.columns[data.columns.isin(cList)]]\n",
    "\n",
    "# Encoding\n",
    "data['sex'] = data['sex'].replace({'F': 0, 'M': 1})\n",
    "data['group'] = data['group'].replace({'AC': 0, 'RCT': 1, 'HC': 2})\n",
    "\n",
    "# Choosing group\n",
    "train_data = data.loc[data['group'] != 2].reset_index(drop = True)\n",
    "\n",
    "X = train_data.drop(columns=['ID','group'])\n",
    "# X = train_data.drop(columns=['group'])\n",
    "y = train_data['group']\n",
    "# Train & Test Split\n",
    "# X_train, X_test, y_train, y_test = model_selection.train_test_split(X, y, test_size = 0.3, random_state=7)"
   ]
  },
  {
   "cell_type": "code",
   "execution_count": 12,
   "metadata": {},
   "outputs": [],
   "source": [
    "# Model Evaluation\n",
    "def evaluation(test, prediction, multi=False):\n",
    "    # for Binary-Class\n",
    "    if multi==False:\n",
    "        confuse_matrix = metrics.confusion_matrix(test, prediction, labels=[0,1])\n",
    "        tn, fp, fn, tp = metrics.confusion_matrix(test, prediction).ravel()\n",
    "        print(confuse_matrix)\n",
    "\n",
    "    # for Multi-Class\n",
    "    elif multi==True:\n",
    "        confuse_matrix = metrics.confusion_matrix(test, prediction, labels=[0,1,2])\n",
    "        print(confuse_matrix)\n",
    "\n",
    "        fp = confuse_matrix.sum(axis=0) - np.diag(confuse_matrix) \n",
    "        fn = confuse_matrix.sum(axis=1) - np.diag(confuse_matrix)\n",
    "        tp = np.diag(confuse_matrix)\n",
    "        tn = confuse_matrix.sum() - (fp + fn + tp)\n",
    "        fp = fp.astype(float)\n",
    "        fn = fn.astype(float)\n",
    "        tp = tp.astype(float)\n",
    "        tn = tn.astype(float)\n",
    "\n",
    "    accuracy = (tp+tn)/(tp+fp+fn+tn)\n",
    "    print ('Accuracy: ', accuracy)\n",
    "\n",
    "    sensitivity = tp/(tp+fn)\n",
    "    print('Sensitivity: ', sensitivity)\n",
    "\n",
    "    specificity = tn/(tn+fp) \n",
    "    print('Specificity: ', specificity)"
   ]
  },
  {
   "cell_type": "code",
   "execution_count": 3,
   "metadata": {},
   "outputs": [],
   "source": [
    "xgboostModel = XGBClassifier()\n",
    "\n",
    "selector = RFECV(xgboostModel, min_features_to_select=150, step=1, cv=model_selection.StratifiedKFold(5), n_jobs=10)\n",
    "selector = selector.fit(X, y)\n",
    "selectList = selector.get_feature_names_out()"
   ]
  },
  {
   "cell_type": "code",
   "execution_count": 10,
   "metadata": {},
   "outputs": [],
   "source": [
    "data = pd.read_csv('/Users/ray/Thesis/ShoulderAll.csv')\n",
    "\n",
    "selectList = np.append(selectList, 'group')\n",
    "colList = pd.read_csv('/Users/ray/Thesis/p_val.csv')\n",
    "\n",
    "cList = np.append(np.array(colList['colName']), 'group')\n",
    "# data = data[data.columns[data.columns.isin(cList)]]\n",
    "data = data[data.columns[data.columns.isin(cList)]]\n",
    "data['group'] = data['group'].replace({'AC': 0, 'RCT': 1, 'HC': 2})\n",
    "\n",
    "# Choosing group\n",
    "train_data = data.loc[data['group'] != 2].reset_index(drop = True)\n",
    "X = train_data.drop(columns=['group'])\n",
    "y = train_data['group']"
   ]
  },
  {
   "cell_type": "code",
   "execution_count": 13,
   "metadata": {},
   "outputs": [
    {
     "name": "stdout",
     "output_type": "stream",
     "text": [
      "[[1 5]\n",
      " [1 9]]\n",
      "Accuracy:  0.625\n",
      "Sensitivity:  0.9\n",
      "Specificity:  0.16666666666666666\n",
      "[[3 2]\n",
      " [3 8]]\n",
      "Accuracy:  0.6875\n",
      "Sensitivity:  0.7272727272727273\n",
      "Specificity:  0.6\n",
      "[[1 4]\n",
      " [3 8]]\n",
      "Accuracy:  0.5625\n",
      "Sensitivity:  0.7272727272727273\n",
      "Specificity:  0.2\n",
      "[[1 4]\n",
      " [2 9]]\n",
      "Accuracy:  0.625\n",
      "Sensitivity:  0.8181818181818182\n",
      "Specificity:  0.2\n",
      "[[4 1]\n",
      " [3 8]]\n",
      "Accuracy:  0.75\n",
      "Sensitivity:  0.7272727272727273\n",
      "Specificity:  0.8\n",
      "Maximum Accuracy:  0.75\n",
      "Minimum Accuracy:  0.5625\n",
      "Overall Accuracy:  0.65\n"
     ]
    }
   ],
   "source": [
    "skf = model_selection.StratifiedKFold(n_splits=5)\n",
    "acc_stratified = []\n",
    "  \n",
    "for train_index, test_index in skf.split(X, y):\n",
    "    X_train_fold, X_test_fold = X.loc[train_index], X.loc[test_index]\n",
    "    y_train_fold, y_test_fold = y.loc[train_index], y.loc[test_index]\n",
    "    xgboostModel.fit(X_train_fold, y_train_fold)\n",
    "\n",
    "    acc_stratified.append(xgboostModel.score(X_test_fold, y_test_fold))\n",
    "    \n",
    "    y_predicted = xgboostModel.predict(X_test_fold)\n",
    "    evaluation(y_test_fold, y_predicted)\n",
    "\n",
    "print('Maximum Accuracy: ',max(acc_stratified)) \n",
    "print('Minimum Accuracy: ',min(acc_stratified)) \n",
    "print('Overall Accuracy: ',mean(acc_stratified))"
   ]
  },
  {
   "cell_type": "code",
   "execution_count": null,
   "metadata": {},
   "outputs": [],
   "source": []
  }
 ],
 "metadata": {
  "kernelspec": {
   "display_name": "Python 3",
   "language": "python",
   "name": "python3"
  },
  "language_info": {
   "codemirror_mode": {
    "name": "ipython",
    "version": 3
   },
   "file_extension": ".py",
   "mimetype": "text/x-python",
   "name": "python",
   "nbconvert_exporter": "python",
   "pygments_lexer": "ipython3",
   "version": "3.9.2"
  },
  "orig_nbformat": 4
 },
 "nbformat": 4,
 "nbformat_minor": 2
}
